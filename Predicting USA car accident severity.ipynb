{
 "cells": [
  {
   "cell_type": "markdown",
   "metadata": {},
   "source": [
    "# Predict car accident severity \n",
    "### Analyst : Kandarp Patel"
   ]
  },
  {
   "cell_type": "markdown",
   "metadata": {},
   "source": [
    "# Introduction"
   ]
  },
  {
   "cell_type": "markdown",
   "metadata": {},
   "source": [
    "## Business Problem"
   ]
  },
  {
   "cell_type": "markdown",
   "metadata": {},
   "source": [
    "#### Motor vehicle accidents continue to be one of the leading causes of accidental deaths and injuries in the United States. They are responsible for billions in property damage and other economic losses each year to the US Citizens. Medical care costs and productivity losses associated with injuries and deaths from motor vehicle crashes exceeded 75 Billion dollars alone in 2017. Large part of these losses are contributed by small number of serious crashes. It is crucial to reduce traffic accidents by proactively focusing on preventing unsafe road conditions from occuring in the first place. Another approach is to predict accidents and severity using historical records, by learning the patterns behind these accidents and key factors contributing to them. By predicting possibilities of accidents even before they happen, we can make knowledge based well informed decisions and better allocate our financial and human resources. "
   ]
  },
  {
   "cell_type": "code",
   "execution_count": null,
   "metadata": {},
   "outputs": [],
   "source": []
  }
 ],
 "metadata": {
  "kernelspec": {
   "display_name": "Python 3",
   "language": "python",
   "name": "python3"
  },
  "language_info": {
   "codemirror_mode": {
    "name": "ipython",
    "version": 3
   },
   "file_extension": ".py",
   "mimetype": "text/x-python",
   "name": "python",
   "nbconvert_exporter": "python",
   "pygments_lexer": "ipython3",
   "version": "3.7.3"
  }
 },
 "nbformat": 4,
 "nbformat_minor": 2
}
