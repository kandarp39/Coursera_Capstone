{
 "cells": [
  {
   "cell_type": "markdown",
   "metadata": {},
   "source": [
    "# Predict car accident severity \n",
    "### Analyst : Kandarp Patel"
   ]
  },
  {
   "cell_type": "markdown",
   "metadata": {},
   "source": [
    "# Introduction"
   ]
  },
  {
   "cell_type": "markdown",
   "metadata": {},
   "source": [
    "## Business Problem"
   ]
  },
  {
   "cell_type": "markdown",
   "metadata": {},
   "source": [
    "#### Motor vehicle accidents continue to be one of the leading causes of accidental deaths and injuries in the United States. They are responsible for billions in property damage and other economic losses each year to the US Citizens. Medical care costs and productivity losses associated with injuries and deaths from motor vehicle crashes exceeded 75 Billion dollars alone in 2017. Large part of these losses are contributed by small number of serious crashes. It is crucial to reduce traffic accidents by proactively focusing on preventing unsafe road conditions from occuring in the first place. Another approach is to predict accidents and severity using historical records, by learning the patterns behind these accidents and key factors contributing to them. By predicting possibilities of accidents even before they happen, we can make knowledge based well informed decisions and better allocate our financial and human resources. "
   ]
  },
  {
   "cell_type": "markdown",
   "metadata": {},
   "source": [
    "## Objective"
   ]
  },
  {
   "cell_type": "markdown",
   "metadata": {},
   "source": [
    "#### The objective is to create model based solution to above business problem. Approach the create solution will be to perform exploratory analsys on curated dataset and find the key factors affecting the accident and the severity. Then we will develop a model that can accurately predict accident severity. The model should be able to predict likelihood of unforeseen accidents of being severe one, given bare minimum information. This model should predict real time traffic accident severity."
   ]
  },
  {
   "cell_type": "markdown",
   "metadata": {},
   "source": [
    "## Dataset"
   ]
  },
  {
   "cell_type": "markdown",
   "metadata": {},
   "source": [
    "#### This is a countrywide traffic accident dataset, which covers 49 states of the United States. The data is continuously being collected between February 2016 and June 2020, using several data providers, including two APIs which provide streaming traffic event data. These APIs broadcast traffic events captured by a variety of entities, such as the US and state departments of transportation, law enforcement agencies, traffic cameras, and traffic sensors within the road-networks. Currently, there are about 3.5 million accident records in this dataset. The dataset format is csv file and 69% of data is sourced from MapQuest while 21% of the data is sourced from Bing.\n",
    "\n",
    "#### Acknowledgement\n",
    "\n",
    "Moosavi, Sobhan, Mohammad Hossein Samavatian, Srinivasan Parthasarathy, and Rajiv Ramnath. “A Countrywide Traffic Accident Dataset.”, arXiv preprint arXiv:1906.05409 (2019).\n",
    "\n",
    "Moosavi, Sobhan, Mohammad Hossein Samavatian, Srinivasan Parthasarathy, Radu Teodorescu, and Rajiv Ramnath. “Accident Risk Prediction based on Heterogeneous Sparse Data: New Dataset and Insights.” In proceedings of the 27th ACM SIGSPATIAL International Conference on Advances in Geographic Information Systems, ACM, 2019.\n",
    "\n",
    "Download link to dataset: https://smoosavi.org/datasets/us_accidents in Download section.\n",
    "\n",
    "#### Dataset Features and details:\n",
    "\n",
    "\n",
    "#### Traffic Attributes (12):\n",
    "\n",
    "    ID: This is a unique identifier of the accident record.\n",
    "\n",
    "    Source: Indicates source of the accident report (i.e. the API which reported the accident.).\n",
    "\n",
    "    TMC: A traffic accident may have a Traffic Message Channel (TMC) code which provides more detailed description of the event.\n",
    "\n",
    "    Severity: Shows the severity of the accident, a number between 1 and 4, where 1 indicates the least impact on traffic (i.e., short delay as a result of the accident) and 4 indicates a significant impact on traffic (i.e., long delay).\n",
    "\n",
    "    Start_Time: Shows start time of the accident in local time zone.\n",
    "\n",
    "    End_Time: Shows end time of the accident in local time zone.\n",
    "\n",
    "    Start_Lat: Shows latitude in GPS coordinate of the start point.\n",
    "\n",
    "    Start_Lng: Shows longitude in GPS coordinate of the start point.\n",
    "\n",
    "    End_Lat: Shows latitude in GPS coordinate of the end point.\n",
    "\n",
    "    End_Lng: Shows longitude in GPS coordinate of the end point.\n",
    "\n",
    "    Distance(mi): The length of the road extent affected by the accident.\n",
    "\n",
    "    Description: Shows natural language description of the accident.\n",
    "\n",
    "#### Address Attributes (9):\n",
    "\n",
    "    Number: Shows the street number in address field.\n",
    "\n",
    "    Street: Shows the street name in address field.\n",
    "\n",
    "    Side: Shows the relative side of the street (Right/Left) in address field.\n",
    "\n",
    "    City: Shows the city in address field.\n",
    "\n",
    "    County: Shows the county in address field.\n",
    "\n",
    "    State: Shows the state in address field.\n",
    "\n",
    "    Zipcode: Shows the zipcode in address field.\n",
    "\n",
    "    Country: Shows the country in address field.\n",
    "\n",
    "    Timezone: Shows timezone based on the location of the accident (eastern, central, etc.).\n",
    "\n",
    "#### Weather Attributes (11):\n",
    "\n",
    "    Airport_Code: Denotes an airport-based weather station which is the closest one to location of the accident.\n",
    "\n",
    "    Weather_Timestamp: Shows the time-stamp of weather observation record (in local time).\n",
    "\n",
    "    Temperature(F): Shows the temperature (in Fahrenheit).\n",
    "\n",
    "    Wind_Chill(F): Shows the wind chill (in Fahrenheit).\n",
    "\n",
    "    Humidity(%): Shows the humidity (in percentage).\n",
    "\n",
    "    Pressure(in): Shows the air pressure (in inches).\n",
    "\n",
    "    Visibility(mi): Shows visibility (in miles).\n",
    "\n",
    "    Wind_Direction: Shows wind direction.\n",
    "\n",
    "    Wind_Speed(mph): Shows wind speed (in miles per hour).\n",
    "\n",
    "    Precipitation(in): Shows precipitation amount in inches, if there is any.\n",
    "\n",
    "    Weather_Condition: Shows the weather condition (rain, snow, thunderstorm, fog, etc.).\n",
    "\n",
    "#### POI Attributes (13):\n",
    "\n",
    "    Amenity: A Point-Of-Interest (POI) annotation which indicates presence of amenity in a nearby location.\n",
    "\n",
    "    Bump: A POI annotation which indicates presence of speed bump or hump in a nearby location.\n",
    "\n",
    "    Crossing: A POI annotation which indicates presence of crossing in a nearby location.\n",
    "\n",
    "    Give_Way: A POI annotation which indicates presence of give_way sign in a nearby location.\n",
    "\n",
    "    Junction: A POI annotation which indicates presence of junction in a nearby location.\n",
    "\n",
    "    No_Exit: A POI annotation which indicates presence of no_exit sign in a nearby location.\n",
    "\n",
    "    Railway: A POI annotation which indicates presence of railway in a nearby location.\n",
    "\n",
    "    Roundabout: A POI annotation which indicates presence of roundabout in a nearby location.\n",
    "\n",
    "    Station: A POI annotation which indicates presence of station (bus, train, etc.) in a nearby location.\n",
    "\n",
    "    Stop: A POI annotation which indicates presence of stop sign in a nearby location.\n",
    "\n",
    "    Traffic_Calming: A POI annotation which indicates presence of traffic_calming means in a nearby location.\n",
    "\n",
    "    Traffic_Signal: A POI annotation which indicates presence of traffic_signal in a nearby location.\n",
    "\n",
    "    Turning_Loop: A POI annotation which indicates presence of turning_loop in a nearby location.\n",
    "\n",
    "#### Period-of-Day (4):\n",
    "\n",
    "    Sunrise_Sunset: Shows the period of day (i.e. day or night) based on sunrise/sunset.\n",
    "\n",
    "    Civil_Twilight: Shows the period of day (i.e. day or night) based on civil twilight.\n",
    "\n",
    "    Nautical_Twilight: Shows the period of day (i.e. day or night) based on nautical twilight.\n",
    "\n",
    "    Astronomical_Twilight: Shows the period of day (i.e. day or night) based on astronomical twilight.\n"
   ]
  },
  {
   "cell_type": "code",
   "execution_count": null,
   "metadata": {},
   "outputs": [],
   "source": []
  }
 ],
 "metadata": {
  "kernelspec": {
   "display_name": "Python 3",
   "language": "python",
   "name": "python3"
  },
  "language_info": {
   "codemirror_mode": {
    "name": "ipython",
    "version": 3
   },
   "file_extension": ".py",
   "mimetype": "text/x-python",
   "name": "python",
   "nbconvert_exporter": "python",
   "pygments_lexer": "ipython3",
   "version": "3.7.3"
  }
 },
 "nbformat": 4,
 "nbformat_minor": 2
}
