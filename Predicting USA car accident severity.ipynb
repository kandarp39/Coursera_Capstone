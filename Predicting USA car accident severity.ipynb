{
 "cells": [
  {
   "cell_type": "markdown",
   "metadata": {},
   "source": [
    "# Predict car accident severity \n",
    "### Analyst : Kandarp Patel"
   ]
  },
  {
   "cell_type": "markdown",
   "metadata": {},
   "source": [
    "# Introduction"
   ]
  },
  {
   "cell_type": "markdown",
   "metadata": {},
   "source": [
    "## Business Problem"
   ]
  },
  {
   "cell_type": "markdown",
   "metadata": {},
   "source": [
    "#### Motor vehicle accidents continue to be one of the leading causes of accidental deaths and injuries in the United States. They are responsible for billions in property damage and other economic losses each year to the US Citizens. Medical care costs and productivity losses associated with injuries and deaths from motor vehicle crashes exceeded 75 Billion dollars alone in 2017. Large part of these losses are contributed by small number of serious crashes. It is crucial to reduce traffic accidents by proactively focusing on preventing unsafe road conditions from occuring in the first place. Another approach is to predict accidents and severity using historical records, by learning the patterns behind these accidents and key factors contributing to them. By predicting possibilities of accidents even before they happen, we can make knowledge based well informed decisions and better allocate our financial and human resources. "
   ]
  },
  {
   "cell_type": "markdown",
   "metadata": {},
   "source": [
    "## Objective"
   ]
  },
  {
   "cell_type": "markdown",
   "metadata": {},
   "source": [
    "#### The objective is to create model based solution to above business problem. Approach the create solution will be to perform exploratory analsys on curated dataset and find the key factors affecting the accident and the severity. Then we will develop a model that can accurately predict accident severity. The model should be able to predict likelihood of unforeseen accidents of being severe one, given bare minimum information. This model should predict real time traffic accident severity."
   ]
  },
  {
   "cell_type": "markdown",
   "metadata": {},
   "source": [
    "## Dataset"
   ]
  },
  {
   "cell_type": "markdown",
   "metadata": {},
   "source": [
    "#### This is a countrywide traffic accident dataset, which covers 49 states of the United States. The data is continuously being collected between February 2016 and June 2020, using several data providers, including two APIs which provide streaming traffic event data. These APIs broadcast traffic events captured by a variety of entities, such as the US and state departments of transportation, law enforcement agencies, traffic cameras, and traffic sensors within the road-networks. Currently, there are about 3.5 million accident records in this dataset. The dataset format is csv file and 69% of data is sourced from MapQuest while 21% of the data is sourced from Bing.\n",
    "\n",
    "#### Acknowledgement\n",
    "\n",
    "Moosavi, Sobhan, Mohammad Hossein Samavatian, Srinivasan Parthasarathy, and Rajiv Ramnath. “A Countrywide Traffic Accident Dataset.”, arXiv preprint arXiv:1906.05409 (2019).\n",
    "\n",
    "Moosavi, Sobhan, Mohammad Hossein Samavatian, Srinivasan Parthasarathy, Radu Teodorescu, and Rajiv Ramnath. “Accident Risk Prediction based on Heterogeneous Sparse Data: New Dataset and Insights.” In proceedings of the 27th ACM SIGSPATIAL International Conference on Advances in Geographic Information Systems, ACM, 2019.\n",
    "\n",
    "Download link to dataset: https://smoosavi.org/datasets/us_accidents in Download section."
   ]
  },
  {
   "cell_type": "code",
   "execution_count": null,
   "metadata": {},
   "outputs": [],
   "source": []
  }
 ],
 "metadata": {
  "kernelspec": {
   "display_name": "Python 3",
   "language": "python",
   "name": "python3"
  },
  "language_info": {
   "codemirror_mode": {
    "name": "ipython",
    "version": 3
   },
   "file_extension": ".py",
   "mimetype": "text/x-python",
   "name": "python",
   "nbconvert_exporter": "python",
   "pygments_lexer": "ipython3",
   "version": "3.7.3"
  }
 },
 "nbformat": 4,
 "nbformat_minor": 2
}
